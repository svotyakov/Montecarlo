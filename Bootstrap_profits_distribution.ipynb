{
 "cells": [
  {
   "cell_type": "markdown",
   "id": "66381d3c",
   "metadata": {},
   "source": [
    "# Описание проекта\n",
    "#### ЗАДАЧА: Необходимо построить модель для определения региона, где добыча нефти принесёт наибольшую прибыль с помощью техники Bootstrap.\n",
    "#### Условия задачи:\n",
    "- Вам предоставлены пробы нефти в трёх регионах. Характеристики для каждой скважины в регионе уже известны.\n",
    "- Для обучения модели подходит только линейная регрессия (остальные — недостаточно предсказуемые).\n",
    "- При разведке региона исследуют 500 точек, из которых с помощью машинного обучения выбирают 200 лучших для разработки.\n",
    "- Бюджет на разработку скважин в регионе — 10 млрд рублей.\n",
    "- При нынешних ценах один баррель сырья приносит 450 рублей дохода. Доход с каждой единицы продукта составляет 450 тыс. рублей, поскольку объём указан в тысячах баррелей.\n",
    "- После оценки рисков нужно оставить лишь те регионы, в которых вероятность убытков меньше 2.5%. Среди них выбирают регион с наибольшей средней прибылью.\n",
    "\n",
    "#### Шаги для выбора локаций скважен для разработки такие:\n",
    "1. Делаются пробы и собираются характеристики для скважин в выбранном регионе. Сами названия характеристик нам не ракрываются, это F0, F1 и  F2. Известно, что эти характеристики важны и связаны с объемом запасов в каждой скважине (product). Согласно условиям задачи, выделен бюджет на 500 таких точек.\n",
    "2. Строится модель для предсказания объёма запасов в данных скважинах.\n",
    "3. Выбираются скважины, по которым модель дает наибольшее предсказание запасов (200 лучших точек)\n",
    "\n",
    "#### Pipeline:\n",
    "1. Разделяем выборки в соотношении train:75% / val:25%\n",
    "2. Обучаем модель линейной регрессии на данных train (без кросс-валидации, в данной работе это просто этап для техники bootstrap и нам нет необходимости достигать максимальной RMSE)\n",
    "3. Из выборки 'val' случайным образом выбираем 500 записей - это и будет моделированием деланья проб\n",
    "4. Получаем предсказания по полученной выборке и из 500 записей выбираем 200 самых лучших\n",
    "5. Оцениваем прибыль (по фактическим запасам)\n",
    "6. Повторяем пп. 3-5 1000 раз. Получаем средний показатель прибыли и распределение прибыли\n",
    "7. Выбираем лучший регион"
   ]
  },
  {
   "cell_type": "code",
   "execution_count": 179,
   "id": "6e8a19d0",
   "metadata": {},
   "outputs": [],
   "source": [
    "import pandas as pd\n",
    "import numpy as np\n",
    "\n",
    "from sklearn.model_selection import train_test_split\n",
    "from sklearn.linear_model import LinearRegression\n",
    "from sklearn.metrics import mean_squared_error\n",
    "from matplotlib import pyplot as plt\n",
    "\n",
    "state = np.random.RandomState(12345)"
   ]
  },
  {
   "cell_type": "markdown",
   "id": "25dc77a9",
   "metadata": {},
   "source": [
    "### Подготовка данных"
   ]
  },
  {
   "cell_type": "code",
   "execution_count": 47,
   "id": "94b1da0a",
   "metadata": {},
   "outputs": [],
   "source": [
    "try:\n",
    "    geo_data_0 = pd.read_csv('C:/project/project8/geo_data_0.csv')\n",
    "    geo_data_1 = pd.read_csv('C:/project/project8/geo_data_1.csv')\n",
    "    geo_data_2 = pd.read_csv('C:/project/project8/geo_data_2.csv')\n",
    "except:\n",
    "    geo_data_0 = pd.read_csv('/datasets/geo_data_0.csv')\n",
    "    geo_data_1 = pd.read_csv('/datasets/geo_data_1.csv')\n",
    "    geo_data_2 = pd.read_csv('/datasets/geo_data_2.csv')"
   ]
  },
  {
   "cell_type": "code",
   "execution_count": 48,
   "id": "ec675fe7",
   "metadata": {},
   "outputs": [
    {
     "name": "stdout",
     "output_type": "stream",
     "text": [
      "<class 'pandas.core.frame.DataFrame'>\n",
      "RangeIndex: 100000 entries, 0 to 99999\n",
      "Data columns (total 5 columns):\n",
      " #   Column   Non-Null Count   Dtype  \n",
      "---  ------   --------------   -----  \n",
      " 0   id       100000 non-null  object \n",
      " 1   f0       100000 non-null  float64\n",
      " 2   f1       100000 non-null  float64\n",
      " 3   f2       100000 non-null  float64\n",
      " 4   product  100000 non-null  float64\n",
      "dtypes: float64(4), object(1)\n",
      "memory usage: 3.8+ MB\n"
     ]
    },
    {
     "data": {
      "text/html": [
       "<div>\n",
       "<style scoped>\n",
       "    .dataframe tbody tr th:only-of-type {\n",
       "        vertical-align: middle;\n",
       "    }\n",
       "\n",
       "    .dataframe tbody tr th {\n",
       "        vertical-align: top;\n",
       "    }\n",
       "\n",
       "    .dataframe thead th {\n",
       "        text-align: right;\n",
       "    }\n",
       "</style>\n",
       "<table border=\"1\" class=\"dataframe\">\n",
       "  <thead>\n",
       "    <tr style=\"text-align: right;\">\n",
       "      <th></th>\n",
       "      <th>f0</th>\n",
       "      <th>f1</th>\n",
       "      <th>f2</th>\n",
       "      <th>product</th>\n",
       "    </tr>\n",
       "  </thead>\n",
       "  <tbody>\n",
       "    <tr>\n",
       "      <th>count</th>\n",
       "      <td>100000.000000</td>\n",
       "      <td>100000.000000</td>\n",
       "      <td>100000.000000</td>\n",
       "      <td>100000.000000</td>\n",
       "    </tr>\n",
       "    <tr>\n",
       "      <th>mean</th>\n",
       "      <td>0.500419</td>\n",
       "      <td>0.250143</td>\n",
       "      <td>2.502647</td>\n",
       "      <td>92.500000</td>\n",
       "    </tr>\n",
       "    <tr>\n",
       "      <th>std</th>\n",
       "      <td>0.871832</td>\n",
       "      <td>0.504433</td>\n",
       "      <td>3.248248</td>\n",
       "      <td>44.288691</td>\n",
       "    </tr>\n",
       "    <tr>\n",
       "      <th>min</th>\n",
       "      <td>-1.408605</td>\n",
       "      <td>-0.848218</td>\n",
       "      <td>-12.088328</td>\n",
       "      <td>0.000000</td>\n",
       "    </tr>\n",
       "    <tr>\n",
       "      <th>25%</th>\n",
       "      <td>-0.072580</td>\n",
       "      <td>-0.200881</td>\n",
       "      <td>0.287748</td>\n",
       "      <td>56.497507</td>\n",
       "    </tr>\n",
       "    <tr>\n",
       "      <th>50%</th>\n",
       "      <td>0.502360</td>\n",
       "      <td>0.250252</td>\n",
       "      <td>2.515969</td>\n",
       "      <td>91.849972</td>\n",
       "    </tr>\n",
       "    <tr>\n",
       "      <th>75%</th>\n",
       "      <td>1.073581</td>\n",
       "      <td>0.700646</td>\n",
       "      <td>4.715088</td>\n",
       "      <td>128.564089</td>\n",
       "    </tr>\n",
       "    <tr>\n",
       "      <th>max</th>\n",
       "      <td>2.362331</td>\n",
       "      <td>1.343769</td>\n",
       "      <td>16.003790</td>\n",
       "      <td>185.364347</td>\n",
       "    </tr>\n",
       "  </tbody>\n",
       "</table>\n",
       "</div>"
      ],
      "text/plain": [
       "                  f0             f1             f2        product\n",
       "count  100000.000000  100000.000000  100000.000000  100000.000000\n",
       "mean        0.500419       0.250143       2.502647      92.500000\n",
       "std         0.871832       0.504433       3.248248      44.288691\n",
       "min        -1.408605      -0.848218     -12.088328       0.000000\n",
       "25%        -0.072580      -0.200881       0.287748      56.497507\n",
       "50%         0.502360       0.250252       2.515969      91.849972\n",
       "75%         1.073581       0.700646       4.715088     128.564089\n",
       "max         2.362331       1.343769      16.003790     185.364347"
      ]
     },
     "execution_count": 48,
     "metadata": {},
     "output_type": "execute_result"
    }
   ],
   "source": [
    "geo_data_0.info()\n",
    "geo_data_0.describe()"
   ]
  },
  {
   "cell_type": "markdown",
   "id": "a2a12e57",
   "metadata": {},
   "source": [
    "#### Данные не содержат пропусков, признаки f0-f2 согласно условиям задачи  значимы. Считаю, что никаких дополнительных преобразований датасеты не требуют. Разбиение на features и target проведем в следующем пункте чтобы не разбивать код."
   ]
  },
  {
   "cell_type": "markdown",
   "id": "81681be9",
   "metadata": {},
   "source": [
    "### Обучение и проверка модель для каждого региона:"
   ]
  },
  {
   "cell_type": "code",
   "execution_count": 80,
   "id": "8a3eb405",
   "metadata": {},
   "outputs": [],
   "source": [
    "def reg_evaluation(geo_data): #оценивает по валидационной выборке средний запас предсказанного сырья, \n",
    "                              #реальный средний запас, RMSE модели\n",
    "    features_train, features_val, target_train, target_val = train_test_split(\n",
    "        geo_data.drop(columns=['id', 'product']), geo_data['product'], test_size=0.25, random_state=12345)\n",
    "    \n",
    "    model = LinearRegression() \n",
    "    model.fit(features_train, target_train)\n",
    "    predictions_val = pd.Series(model.predict(features_val))\n",
    "    print('Средний запас предсказанного сырья', predictions_val.mean())\n",
    "    print('Реальный запас сырья', target_val.mean())\n",
    "    print('RMSE модели = ', mean_squared_error(target_val, predictions_val)**(1/2))\n",
    "    return predictions_val, target_val.reset_index(drop=True)"
   ]
  },
  {
   "cell_type": "markdown",
   "id": "fc726ae9",
   "metadata": {},
   "source": [
    "#### Регион 0"
   ]
  },
  {
   "cell_type": "code",
   "execution_count": 89,
   "id": "94ca37ce",
   "metadata": {},
   "outputs": [
    {
     "name": "stdout",
     "output_type": "stream",
     "text": [
      "Средний запас предсказанного сырья 92.59256778438005\n",
      "Реальный запас сырья 92.07859674082941\n",
      "RMSE модели =  37.5794217150813\n"
     ]
    }
   ],
   "source": [
    "geo_data_0_predictions_valid, geo_data_0_target_valid = reg_evaluation(geo_data_0)"
   ]
  },
  {
   "cell_type": "markdown",
   "id": "84f1b1f2",
   "metadata": {},
   "source": [
    "#### Регион 1"
   ]
  },
  {
   "cell_type": "code",
   "execution_count": 90,
   "id": "488976c4",
   "metadata": {},
   "outputs": [
    {
     "name": "stdout",
     "output_type": "stream",
     "text": [
      "Средний запас предсказанного сырья 68.72854689544583\n",
      "Реальный запас сырья 68.72313602437494\n",
      "RMSE модели =  0.8930992867756178\n"
     ]
    }
   ],
   "source": [
    "geo_data_1_predictions_valid, geo_data_1_target_valid = reg_evaluation(geo_data_1)"
   ]
  },
  {
   "cell_type": "markdown",
   "id": "f69e3089",
   "metadata": {},
   "source": [
    "#### Регион 2"
   ]
  },
  {
   "cell_type": "code",
   "execution_count": 91,
   "id": "8986a0ff",
   "metadata": {},
   "outputs": [
    {
     "name": "stdout",
     "output_type": "stream",
     "text": [
      "Средний запас предсказанного сырья 94.96504596800506\n",
      "Реальный запас сырья 94.88423280885489\n",
      "RMSE модели =  40.02970873393434\n"
     ]
    }
   ],
   "source": [
    "geo_data_2_predictions_valid, geo_data_2_target_valid = reg_evaluation(geo_data_2)"
   ]
  },
  {
   "cell_type": "markdown",
   "id": "fc01583c",
   "metadata": {},
   "source": [
    "#### Модель лучше всего предсказывает значения по региону 1 (RMSE модели практически равен нулю), при этом, средние запасы по данному региону существенно уступают запасам регионов 0 и 2. "
   ]
  },
  {
   "cell_type": "markdown",
   "id": "e9ed2933",
   "metadata": {},
   "source": [
    "### Расчёт прибыли"
   ]
  },
  {
   "cell_type": "markdown",
   "id": "a6ab87cf",
   "metadata": {},
   "source": [
    "####  Функция расчета прибыли по выбранным скважинам и предсказаниям модели:"
   ]
  },
  {
   "cell_type": "code",
   "execution_count": 150,
   "id": "30e4fb9d",
   "metadata": {},
   "outputs": [],
   "source": [
    "def profit_counter(predictions, target):\n",
    "    predictions = predictions.reset_index(drop=True) # после бутстрепа интексы могут дублироваться\n",
    "    target = target.reset_index(drop=True)\n",
    "    probs_sorted = predictions.sort_values(ascending=False)[:200] #выбираем 200 скважин с самими большими предсказаниями\n",
    "    selected = target[probs_sorted.index]    \n",
    "    profit = selected.sum()*450000 - 10000000000\n",
    "    return(int(profit))"
   ]
  },
  {
   "cell_type": "code",
   "execution_count": 151,
   "id": "51cc7db2",
   "metadata": {},
   "outputs": [
    {
     "data": {
      "text/plain": [
       "3320826043"
      ]
     },
     "execution_count": 151,
     "metadata": {},
     "output_type": "execute_result"
    }
   ],
   "source": [
    "#регион 0\n",
    "profit_counter(geo_data_0_predictions_valid, geo_data_0_target_valid)"
   ]
  },
  {
   "cell_type": "code",
   "execution_count": 152,
   "id": "17953276",
   "metadata": {},
   "outputs": [
    {
     "data": {
      "text/plain": [
       "2415086696"
      ]
     },
     "execution_count": 152,
     "metadata": {},
     "output_type": "execute_result"
    }
   ],
   "source": [
    "#регион 1\n",
    "profit_counter(geo_data_1_predictions_valid, geo_data_1_target_valid)"
   ]
  },
  {
   "cell_type": "code",
   "execution_count": 153,
   "id": "4ca4ce85",
   "metadata": {},
   "outputs": [
    {
     "data": {
      "text/plain": [
       "2710349963"
      ]
     },
     "execution_count": 153,
     "metadata": {},
     "output_type": "execute_result"
    }
   ],
   "source": [
    "#регион 2\n",
    "profit_counter(geo_data_2_predictions_valid, geo_data_2_target_valid)"
   ]
  },
  {
   "cell_type": "markdown",
   "id": "248b43c6",
   "metadata": {},
   "source": [
    "#### Регион 0 показывает лучшую прогнозируемую прибыль при условии, если бы у нас была возможность провести 25000 проб (размер выборки 'valid')"
   ]
  },
  {
   "cell_type": "markdown",
   "id": "688042fc",
   "metadata": {},
   "source": [
    "### Посчитайте риски и прибыль для каждого региона:\n",
    "#### Примените технику Bootstrap с 1000 выборок, чтобы найти распределение прибыли.\n",
    "#### Найдите среднюю прибыль, 95%-й доверительный интервал и риск убытков. Убыток — это отрицательная прибыль."
   ]
  },
  {
   "cell_type": "code",
   "execution_count": 158,
   "id": "353ec99b",
   "metadata": {},
   "outputs": [],
   "source": [
    "# При разведке региона исследуют 500 точек, из которых с помощью машинного обучения выбирают 200 лучших для разработки.\n",
    "# Исходя из этого условия, надо надо создать выборки по 500 точек и посчитать по ним потенциальную прибыль с помощью \n",
    "# функции profit_counter\n",
    "def bootstrap(predictions, target):\n",
    "    values = []\n",
    "    for i in range(1000):\n",
    "        data = pd.DataFrame({'predictions':predictions, 'target':target})\n",
    "        data_sample = data.sample(n=500, replace=True, random_state=state)\n",
    "        values.append(profit_counter(data_sample.predictions, data_sample.target))\n",
    "        val = pd.Series(values)\n",
    "    print('Cредняя прибыль:', int(val.mean()))\n",
    "    print('95% доверительный интервал:', int(val.quantile(0.025)),':',int(val.quantile(0.975)))\n",
    "    print(f'Риск убытков: {(val < 0).mean():.01%}')\n",
    "    return val"
   ]
  },
  {
   "cell_type": "code",
   "execution_count": 165,
   "id": "7e034679",
   "metadata": {},
   "outputs": [
    {
     "name": "stdout",
     "output_type": "stream",
     "text": [
      "Cредняя прибыль: 383228551\n",
      "95% доверительный интервал: -169850115 : 887963543\n",
      "Риск убытков: 6.9%\n"
     ]
    }
   ],
   "source": [
    "#регион 0\n",
    "bootstrap0 = bootstrap(geo_data_0_predictions_valid, geo_data_0_target_valid)"
   ]
  },
  {
   "cell_type": "code",
   "execution_count": 166,
   "id": "943d1a76",
   "metadata": {},
   "outputs": [
    {
     "name": "stdout",
     "output_type": "stream",
     "text": [
      "Cредняя прибыль: 441058366\n",
      "95% доверительный интервал: 23103477 : 840267780\n",
      "Риск убытков: 1.7%\n"
     ]
    }
   ],
   "source": [
    "# регион 1\n",
    "bootstrap1 = bootstrap(geo_data_1_predictions_valid, geo_data_1_target_valid)"
   ]
  },
  {
   "cell_type": "code",
   "execution_count": 167,
   "id": "036e8432",
   "metadata": {},
   "outputs": [
    {
     "name": "stdout",
     "output_type": "stream",
     "text": [
      "Cредняя прибыль: 393279441\n",
      "95% доверительный интервал: -152926362 : 913588505\n",
      "Риск убытков: 7.5%\n"
     ]
    }
   ],
   "source": [
    "#регион 2\n",
    "bootstrap2 = bootstrap(geo_data_2_predictions_valid, geo_data_2_target_valid)"
   ]
  },
  {
   "cell_type": "markdown",
   "id": "f9f33479",
   "metadata": {},
   "source": [
    "#### Согласно условиям задачи, нужно оставить лишь те регионы, в которых вероятность убытков меньше 2.5%. Среди них выбирают регион с наибольшей средней прибылью. Этим критериям соответствует регион № 1."
   ]
  },
  {
   "cell_type": "markdown",
   "id": "f3afb12f",
   "metadata": {},
   "source": [
    "Построим график распределения прибыли по этому региону:"
   ]
  },
  {
   "cell_type": "code",
   "execution_count": 234,
   "id": "ef60b571",
   "metadata": {},
   "outputs": [
    {
     "data": {
      "image/png": "[encoded data removed]",
      "text/plain": [
       "<Figure size 1800x500 with 1 Axes>"
      ]
     },
     "metadata": {},
     "output_type": "display_data"
    }
   ],
   "source": [
    "fig, ax = plt.subplots(figsize=(18, 5))\n",
    "(bootstrap1/1000000).plot(kind='kde', grid=True, ax=ax)\n",
    "a=plt.axvline((bootstrap1/1000000).quantile(0.025), linestyle='dotted')\n",
    "plt.text((bootstrap1/1000000).quantile(0.025)+5, 0.0005, 'доверительный интервал 95%', rotation=90)\n",
    "\n",
    "plt.axvline((bootstrap1/1000000).quantile(0.975), linestyle='dotted')\n",
    "plt.text((bootstrap1/1000000).quantile(0.975)-15, 0.0005, 'доверительный интервал 95%', rotation=90)\n",
    "plt.suptitle('Распределение вероятности прибыли для региона № 1, млн. руб')\n",
    "plt.xlim(-200, 1000)\n",
    "plt.axvspan(-200, (bootstrap1/1000000).quantile(0.025), color='grey', alpha=0.5)\n",
    "plt.axvspan((bootstrap1/1000000).quantile(0.975),1000, color='grey', alpha=0.5)\n",
    "plt.show()"
   ]
  },
  {
   "cell_type": "markdown",
   "id": "8da9199c",
   "metadata": {},
   "source": [
    "### Выводы"
   ]
  },
  {
   "cell_type": "markdown",
   "id": "33f20418",
   "metadata": {},
   "source": [
    "#### Регион № 0 обладает бОльшим количеством высокорентабельных месторождений, поэтому, при выборке 200 лучших точек из 25000, он показывает максимальную прибыльность. \n",
    "#### В условиях задачи говорится, что мы не можем оперировать 25000 точками, компания может исследовать в регионе только 500 и из них выбрать 200 лучших согласно модели машинного обучения. Для оценки возможного распределения прибыли, мы 1000 раз формируем выборки по 500 точек из 25000, считаем прибыль для каждой выборки.\n",
    "#### На основе распределиния прибыли в предыдущем пункте делаем вывод, что единственный регион, который соответствует условию задачи: Регион 1."
   ]
  }
 ],
 "metadata": {
  "kernelspec": {
   "display_name": "Python 3 (ipykernel)",
   "language": "python",
   "name": "python3"
  },
  "language_info": {
   "codemirror_mode": {
    "name": "ipython",
    "version": 3
   },
   "file_extension": ".py",
   "mimetype": "text/x-python",
   "name": "python",
   "nbconvert_exporter": "python",
   "pygments_lexer": "ipython3",
   "version": "3.9.13"
  },
  "toc": {
   "base_numbering": 1,
   "nav_menu": {},
   "number_sections": true,
   "sideBar": true,
   "skip_h1_title": true,
   "title_cell": "Table of Contents",
   "title_sidebar": "Contents",
   "toc_cell": false,
   "toc_position": {},
   "toc_section_display": true,
   "toc_window_display": false
  }
 },
 "nbformat": 4,
 "nbformat_minor": 5
}
