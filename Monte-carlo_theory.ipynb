{
 "cells": [
  {
   "cell_type": "markdown",
   "id": "dffda8aa",
   "metadata": {},
   "source": [
    "# Метод Монте-Карло"
   ]
  },
  {
   "cell_type": "markdown",
   "id": "0da72138",
   "metadata": {},
   "source": [
    "Судь метода в том, что при многократном повторении эксперимента, распределение его значений приближается к вероятностям наступления данных событий.\n",
    "- Метод очень удобен, когда надо решить сложную задачу с использованием вероятностей или проверить результаты, полученные по формуле."
   ]
  },
  {
   "cell_type": "markdown",
   "id": "489e3192",
   "metadata": {},
   "source": [
    "### Задача: \n",
    "- В комнате собрались 23 человека. Какая вероятность, что кого-то из этих людей совпали дни рождения? (парадокс дней рождений)"
   ]
  },
  {
   "cell_type": "code",
   "execution_count": 26,
   "id": "11ad6c7f",
   "metadata": {},
   "outputs": [],
   "source": [
    "import pandas as pd\n",
    "import numpy as np\n",
    "from math import factorial"
   ]
  },
  {
   "cell_type": "code",
   "execution_count": 13,
   "id": "827e63d5",
   "metadata": {},
   "outputs": [
    {
     "data": {
      "text/plain": [
       "0.501"
      ]
     },
     "execution_count": 13,
     "metadata": {},
     "output_type": "execute_result"
    }
   ],
   "source": [
    "dr = pd.Series(range(365)) # создаем список с возможными днями рождения\n",
    "coincidence = [dr.sample(23, replace=True).duplicated().max() for _ in range(10000)] #duplicated() ищет дубликаты \n",
    "                                                                                     # в полученном списке\n",
    "pd.Series(coincidence).mean()"
   ]
  },
  {
   "cell_type": "markdown",
   "id": "c841d805",
   "metadata": {},
   "source": [
    "Задача имееет аналитическое решение:\n",
    "- Будем отталкиваться от дополняющей вероятности, т.е. что дни рождения ни у кого не совпали\n",
    "- Дополняющая вероятность считается так: 364/365 * (363/365) *...* ((365-n+1)/365)  =  365! / (365-n)! / 365**n"
   ]
  },
  {
   "cell_type": "code",
   "execution_count": 28,
   "id": "de6b555c",
   "metadata": {},
   "outputs": [
    {
     "data": {
      "text/plain": [
       "0.5072972343239854"
      ]
     },
     "execution_count": 28,
     "metadata": {},
     "output_type": "execute_result"
    }
   ],
   "source": [
    "1-factorial(365)/factorial(365-23)/365**23"
   ]
  },
  {
   "cell_type": "markdown",
   "id": "9d12f1a2",
   "metadata": {},
   "source": [
    "### Задача: \n",
    "- Ночью произошло ДТП с участием такси. В городе работают две компании такси — «Синие» и «Зелёные». «Зелёным» принадлежит 85% такси, «Синим» 15%. Свидетель аварии утверждает, что такси принадлежало «Синим». Следственный эксперимент показал, что ночью свидетель верно определяет цвет такси в 80%. Какова вероятность того, что такси действительно принадлежало «Синим»?"
   ]
  },
  {
   "cell_type": "code",
   "execution_count": 33,
   "id": "02ec1c96",
   "metadata": {},
   "outputs": [
    {
     "data": {
      "text/plain": [
       "0"
      ]
     },
     "execution_count": 33,
     "metadata": {},
     "output_type": "execute_result"
    }
   ],
   "source": [
    "np.random.binomial(1, 0.15) #генератор, который выдает '1' (синее такси) в 15% случаев (т.к. Синих 15%)\n",
    "\n",
    "np.random.binomial(1, 0.8) # генератор, который имитирует показание свидетеля при синей машине\n",
    "np.random.binomial(1, 0.2) # генератор, который имитирует показание свидетеля при зеленой машине"
   ]
  },
  {
   "cell_type": "code",
   "execution_count": 36,
   "id": "a43c96d6",
   "metadata": {},
   "outputs": [
    {
     "data": {
      "text/plain": [
       "0.4137357496794761"
      ]
     },
     "execution_count": 36,
     "metadata": {},
     "output_type": "execute_result"
    }
   ],
   "source": [
    "witness = [] # список со значениями, когда свидетель сказал, что видел синюю машину\n",
    "real = [] # список со значениями, когда свидетель сказал, что видел синюю машину и она действительно была синей\n",
    "for _ in range(100000):\n",
    "    if np.random.binomial(1, 0.15) ==1: # машина синяя\n",
    "        witness.append(np.random.binomial(1, 0.8)) # свидетель прав только в 80% случаев\n",
    "        real.append(np.random.binomial(1, 0.8))\n",
    "    else: # машина зеленая\n",
    "        witness.append(np.random.binomial(1, 0.2)) # свидетель не прав в 20%\n",
    "        real.append(0) # тут 0, т.к. мы знаем, что машина была зеленая np.random.binomial(1, 0.15) ==0\n",
    "pd.Series(real).sum() / pd.Series(witness).sum() "
   ]
  },
  {
   "cell_type": "markdown",
   "id": "390f2070",
   "metadata": {},
   "source": [
    "Сама задача довольно легко решается аналитически. Из 100 случаев аварий, в 85 будут участвовать зеленые машины, в 15 - синие.\n",
    "- Свидетель угадает 15 х 0.8 синих машин = 12\n",
    "- Но ошибется в 85*0.2 = 17 машинах.\n",
    "- Вероятность, что названное свиделем такси действительно синее: 12/(12+17) = 0.413"
   ]
  },
  {
   "cell_type": "markdown",
   "id": "47e6945a",
   "metadata": {},
   "source": [
    "### Задача:\n",
    "- Вирус XYZ находят в среднем у одного человека из тысячи. Существует тест, показывающий, заражён человек XYZ или нет. Однако этот тест в 5% даёт ложное срабатывание — показывает факт заражения, когда на самом деле человек здоров.\n",
    "- Предположим, что тестирование взятого наугад человека показало, что он XYZ-инфицирован. Какова вероятность того, что он на самом деле болен?"
   ]
  },
  {
   "cell_type": "code",
   "execution_count": 63,
   "id": "e8ed9877",
   "metadata": {},
   "outputs": [
    {
     "data": {
      "text/plain": [
       "0.018525741029641187"
      ]
     },
     "execution_count": 63,
     "metadata": {},
     "output_type": "execute_result"
    }
   ],
   "source": [
    "test = [] # случаи положительного срабатывания теста\n",
    "real = [] # случаи, когда человек реально был заражен\n",
    "\n",
    "for _ in range(100000):\n",
    "    if np.random.binomial(1, 0.001) ==1: # вероятность,что человек болен 0.1% (1/1000)\n",
    "        test.append(np.random.binomial(1, 0.95)) # тест определит больного человека в 95% случаев\n",
    "        real.append(np.random.binomial(1, 0.95))\n",
    "    else: # человек здоров\n",
    "        test.append(np.random.binomial(1, 0.05)) # тест может быть ложноположительным\n",
    "        real.append(0) # тут 0, т.к. мы знаем, что человек здоров\n",
    "pd.Series(real).sum() / pd.Series(test).sum() "
   ]
  },
  {
   "cell_type": "markdown",
   "id": "74333327",
   "metadata": {},
   "source": [
    "Аналитическое решение тут аналогичное предыдущей задаче:\n",
    "- Мы провели 1000 тестирований. Согласно условию задачи, у нас должен быть 1 зараженный человек и 999 здоровых. И выявим мы этого зараженного в 95% случаев, т.е. 1 х 0.95\n",
    "- При проведении тестирования, тест покажет положительный результат: 1 х 0.95(тот самый зараженный) + 999 х 0.05(ложные срабатывания) = 50.9 человек\n",
    "- Отношение 1*0.95 к 50.9 и будет нашей вероятностью (0.0186)"
   ]
  },
  {
   "cell_type": "markdown",
   "id": "8166acc0",
   "metadata": {},
   "source": [
    "В целом эти решения связаны с условной вероятностью и описываются формулой Байеса:"
   ]
  },
  {
   "attachments": {
    "1_cZc4ICYYheIZf1Py358C-w.png": {
     "image/png": "[encoded data removed]"
    }
   },
   "cell_type": "markdown",
   "id": "d9fde2b7",
   "metadata": {},
   "source": [
    "![1_cZc4ICYYheIZf1Py358C-w.png](attachment:1_cZc4ICYYheIZf1Py358C-w.png)"
   ]
  },
  {
   "cell_type": "code",
   "execution_count": 56,
   "id": "9b96f052",
   "metadata": {},
   "outputs": [
    {
     "data": {
      "text/plain": [
       "0.018664047151277015"
      ]
     },
     "execution_count": 56,
     "metadata": {},
     "output_type": "execute_result"
    }
   ],
   "source": [
    "# P(A|B) - вероятность, что человек болен(A) при условии, что тест дал положительный результат (В)\n",
    "# P(B|A) = 0.95 - тест правильно определяет заболевшего в 95% случаев\n",
    "# P(A) = 0.001 - вероятность, что человек болен\n",
    "# P(B) = 0.001*0.95(болен) + 0.999*0.05(здоров, ложноположительный)\n",
    "0.95*0.001/(0.95*0.001+0.05*0.999)"
   ]
  },
  {
   "cell_type": "markdown",
   "id": "d3cea7ef",
   "metadata": {},
   "source": [
    "### Задача\n",
    "- Студет выучил 20 билетов из 30. Изменится ли вероятность сдачи экзамена, если он пойдет в класс не первым, а вторым?"
   ]
  },
  {
   "cell_type": "code",
   "execution_count": 65,
   "id": "37931aa4",
   "metadata": {},
   "outputs": [
    {
     "data": {
      "text/plain": [
       "[1, 2, 3, 4, 5, 6, 7, 8, 9, 10, 11, 12, 13, 14, 15, 16, 17, 18, 19, 20]"
      ]
     },
     "execution_count": 65,
     "metadata": {},
     "output_type": "execute_result"
    }
   ],
   "source": [
    "student = list(range(1,21)) # то, что знает студент\n",
    "tickets = list(range(1,31)) # все билеты\n",
    "student"
   ]
  },
  {
   "cell_type": "code",
   "execution_count": 83,
   "id": "4ee09c79",
   "metadata": {},
   "outputs": [
    {
     "name": "stdout",
     "output_type": "stream",
     "text": [
      "0.66656\n"
     ]
    }
   ],
   "source": [
    "from random import shuffle\n",
    "n=100000\n",
    "counter = 0\n",
    "for _ in range(n):\n",
    "    tickets = list(range(1,31))\n",
    "    shuffle(tickets)\n",
    "    if tickets[0] in student:\n",
    "        counter +=1\n",
    "print(counter/n)      "
   ]
  },
  {
   "cell_type": "code",
   "execution_count": 87,
   "id": "f11d9011",
   "metadata": {},
   "outputs": [
    {
     "name": "stdout",
     "output_type": "stream",
     "text": [
      "0.6658\n"
     ]
    }
   ],
   "source": [
    "n=100000\n",
    "counter = 0\n",
    "for _ in range(n):\n",
    "    tickets = list(range(1,31))\n",
    "    shuffle(tickets)\n",
    "    tickets.pop(0) # кто-то пошел первым и вытянул один билет\n",
    "    shuffle(tickets)\n",
    "    if tickets[0] in student:\n",
    "        counter +=1\n",
    "print(counter/n) "
   ]
  },
  {
   "cell_type": "markdown",
   "id": "d8b61b4e",
   "metadata": {},
   "source": [
    "Аналитическое решение:\n",
    "- Вероятность, что студен сдаст экзамен, если пойдет первым: 20/30 = 0.666\n",
    "- Если студент пойдет вторым, то вероятность сдачи: 2/3*(19/29) + (1/3)*20/29 = 0.666 (здесь 2/3 - это вероятность, что первый студент вытащит билет, который знает второй студент 20/30)"
   ]
  },
  {
   "cell_type": "code",
   "execution_count": null,
   "id": "4b9851ef",
   "metadata": {},
   "outputs": [],
   "source": []
  }
 ],
 "metadata": {
  "kernelspec": {
   "display_name": "Python 3 (ipykernel)",
   "language": "python",
   "name": "python3"
  },
  "language_info": {
   "codemirror_mode": {
    "name": "ipython",
    "version": 3
   },
   "file_extension": ".py",
   "mimetype": "text/x-python",
   "name": "python",
   "nbconvert_exporter": "python",
   "pygments_lexer": "ipython3",
   "version": "3.9.13"
  },
  "toc": {
   "base_numbering": 1,
   "nav_menu": {},
   "number_sections": true,
   "sideBar": true,
   "skip_h1_title": true,
   "title_cell": "Table of Contents",
   "title_sidebar": "Contents",
   "toc_cell": false,
   "toc_position": {},
   "toc_section_display": true,
   "toc_window_display": false
  }
 },
 "nbformat": 4,
 "nbformat_minor": 5
}
